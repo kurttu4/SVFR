{
  "nbformat": 4,
  "nbformat_minor": 0,
  "metadata": {
    "colab": {
      "private_outputs": true,
      "provenance": [],
      "gpuType": "T4"
    },
    "kernelspec": {
      "name": "python3",
      "display_name": "Python 3"
    },
    "language_info": {
      "name": "python"
    },
    "accelerator": "GPU"
  },
  "cells": [
    {
      "cell_type": "markdown",
      "source": [
        "# SVFR: A Unified Framework for Generalized Video Face Restoration\n",
        "\n",
        "Этот ноутбук демонстрирует работу SVFR для восстановления видео с лицами."
      ],
      "metadata": {
        "id": "view-in-github"
      }
    },
    {
      "cell_type": "code",
      "source": [
        "# Проверяем доступность GPU v2\n",
        "!nvidia-smi"
      ],
      "metadata": {
        "id": "check_gpu"
      },
      "execution_count": null,
      "outputs": []
    },
    {
      "cell_type": "markdown",
      "source": [
        "## Шаг 1: Установка зависимостей и подготовка файлов"
      ],
      "metadata": {
        "id": "step1"
      }
    },
    {
      "cell_type": "code",
      "source": [
        "# Устанавливаем базовые зависимости\n",
        "!pip install -q torch torchvision torchaudio --index-url https://download.pytorch.org/whl/cu124\n",
        "!pip install -q huggingface_hub gradio opencv-python pillow numpy diffusers transformers accelerate safetensors tqdm"
      ],
      "metadata": {
        "id": "install_base_deps"
      },
      "execution_count": null,
      "outputs": []
    },
    {
      "cell_type": "code",
      "source": [
        "# Клонируем репозиторий и создаем структуру\n",
        "!git clone https://github.com/kurttu4/SVFR.git\n",
        "%cd SVFR\n",
        "!mkdir -p models/stable-video-diffusion-img2vid-xt\n",
        "\n",
        "# Устанавливаем дополнительные зависимости\n",
        "!pip install -r requirements.txt"
      ],
      "metadata": {
        "id": "setup_files"
      },
      "execution_count": null,
      "outputs": []
    },
    {
      "cell_type": "markdown",
      "source": [
        "## ⚠️ Важно: Перезапустите среду выполнения\n",
        "\n",
        "1. Нажмите `Runtime -> Restart runtime`\n",
        "2. После перезапуска запустите все ячейки ниже"
      ],
      "metadata": {
        "id": "restart_warning"
      }
    },
    {
      "cell_type": "markdown",
      "source": [
        "## Шаг 2: Запуск приложения"
      ],
      "metadata": {
        "id": "step2"
      }
    },
    {
      "cell_type": "code",
      "source": [
        "# Проверяем, что мы в правильной директории\n",
        "import os\n",
        "if not os.path.exists('app_old.py'):\n",
        "    %cd SVFR"
      ],
      "metadata": {
        "id": "check_dir"
      },
      "execution_count": null,
      "outputs": []
    },
    {
      "cell_type": "code",
      "source": [
        "# Настраиваем оптимизацию памяти\n",
        "import os\n",
        "import torch\n",
        "\n",
        "# Устанавливаем переменные окружения для оптимизации памяти\n",
        "os.environ['PYTORCH_CUDA_ALLOC_CONF'] = 'max_split_size_mb:64'\n",
        "os.environ['CUDA_LAUNCH_BLOCKING'] = '1'\n",
        "os.environ['PYTORCH_NO_CUDA_MEMORY_CACHING'] = '1'\n",
        "os.environ['CUDA_VISIBLE_DEVICES'] = '0'\n",
        "\n",
        "# Очищаем память GPU\n",
        "if torch.cuda.is_available():\n",
        "    torch.cuda.empty_cache()\n",
        "    torch.cuda.reset_peak_memory_stats()\n",
        "    torch.cuda.set_per_process_memory_fraction(0.8)"
      ],
      "metadata": {
        "id": "setup_memory"
      },
      "execution_count": null,
      "outputs": []
    },
    {
      "cell_type": "code",
      "source": [
        "# Модифицируем app_old.py для работы в Colab\n",
        "with open('app_old.py', 'r') as f:\n",
        "    content = f.read()\n",
        "\n",
        "# Добавляем поддержку share для Colab\n",
        "content = content.replace(\n",
        "    'demo.queue().launch(show_api=False, show_error=True)',\n",
        "    'demo.queue().launch(share=True, show_api=False, show_error=True)'\n",
        ")\n",
        "\n",
        "with open('app_old.py', 'w') as f:\n",
        "    f.write(content)\n",
        "\n",
        "print(\"Запускаем app_old.py из репозитория kurttu4/SVFR...\")\n",
        "!python app_old.py"
      ],
      "metadata": {
        "id": "run_app"
      },
      "execution_count": null,
      "outputs": []
    }
  ]
}
