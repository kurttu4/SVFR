 {
  "nbformat": 4,
  "nbformat_minor": 0,
  "metadata": {
    "colab": {
      "private_outputs": true,
      "provenance": [],
      "gpuType": "T4",
      "authorship_tag": "ABX9TyMQpzEwYH+3FJyHE8JbL8wR"
    },
    "kernelspec": {
      "name": "python3",
      "display_name": "Python 3"
    },
    "language_info": {
      "name": "python"
    },
    "accelerator": "GPU"
  },
  "cells": [
    {
      "cell_type": "markdown",
      "source": [
        "# SVFR: A Unified Framework for Generalized Video Face Restoration\n",
        "\n",
        "Этот ноутбук демонстрирует работу SVFR для восстановления видео с лицами."
      ],
      "metadata": {
        "id": "view-in-github"
      }
    },
    {
      "cell_type": "code",
      "source": [
        "# Проверяем доступность GPU\n",
        "!nvidia-smi"
      ],
      "metadata": {
        "id": "check_gpu"
      },
      "execution_count": null,
      "outputs": []
    },
    {
      "cell_type": "code",
      "source": [
        "# Клонируем репозиторий\n",
        "!git clone https://github.com/wangzhiyaoo/SVFR.git\n",
        "%cd SVFR"
      ],
      "metadata": {
        "id": "clone_repo"
      },
      "execution_count": null,
      "outputs": []
    },
    {
      "cell_type": "code",
      "source": [
        "# Устанавливаем зависимости\n",
        "!pip install -q torch torchvision torchaudio\n",
        "!pip install -q gradio opencv-python pillow numpy\n",
        "!pip install -r requirements.txt"
      ],
      "metadata": {
        "id": "install_deps"
      },
      "execution_count": null,
      "outputs": []
    },
    {
      "cell_type": "code",
      "source": [
        "# Скачиваем модели\n",
        "!mkdir -p models\n",
        "# Здесь будет код для скачивания моделей"
      ],
      "metadata": {
        "id": "download_models"
      },
      "execution_count": null,
      "outputs": []
    },
    {
      "cell_type": "code",
      "source": [
        "# Настраиваем публичный доступ через ngrok\n",
        "!pip install -q pyngrok\n",
        "from pyngrok import ngrok\n",
        "\n",
        "!ngrok authtoken YOUR_NGROK_TOKEN  # Нужно будет заменить на реальный токен\n",
        "public_url = ngrok.connect(port='7860')\n",
        "print(f'Публичный URL: {public_url}')\n",
        "\n",
        "# Запускаем приложение\n",
        "!python app.py"
      ],
      "metadata": {
        "id": "run_app"
      },
      "execution_count": null,
      "outputs": []
    }
  ]
}