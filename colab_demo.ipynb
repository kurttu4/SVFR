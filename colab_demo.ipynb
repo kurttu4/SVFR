{
  "nbformat": 4,
  "nbformat_minor": 0,
  "metadata": {
    "colab": {
      "private_outputs": true,
      "provenance": [],
      "gpuType": "T4"
    },
    "kernelspec": {
      "name": "python3",
      "display_name": "Python 3"
    },
    "language_info": {
      "name": "python"
    },
    "accelerator": "GPU"
  },
  "cells": [
    {
      "cell_type": "markdown",
      "source": [
        "# SVFR: A Unified Framework for Generalized Video Face Restoration\n",
        "\n",
        "Этот ноутбук демонстрирует работу SVFR для восстановления видео с лицами."
      ],
      "metadata": {
        "id": "view-in-github"
      }
    },
    {
      "cell_type": "code",
      "source": [
        "# Проверяем доступность GPU\n",
        "!nvidia-smi"
      ],
      "metadata": {
        "id": "check_gpu"
      },
      "execution_count": null,
      "outputs": []
    },
    {
      "cell_type": "code",
      "source": [
        "# Устанавливаем базовые зависимости\n",
        "!pip install -q torch torchvision torchaudio --index-url https://download.pytorch.org/whl/cu118\n",
        "!pip install -q huggingface_hub gradio opencv-python pillow numpy diffusers transformers accelerate safetensors"
      ],
      "metadata": {
        "id": "install_base_deps"
      },
      "execution_count": null,
      "outputs": []
    },
    {
      "cell_type": "code",
      "source": [
        "# Создаем рабочую директорию и скачиваем файлы\n",
        "!mkdir -p SVFR\n",
        "%cd SVFR\n",
        "\n",
        "# Клонируем ваш репозиторий\n",
        "!git clone https://github.com/kurttu4/SVFR.git .\n",
        "\n",
        "# Устанавливаем дополнительные зависимости\n",
        "!pip install -r requirements.txt"
      ],
      "metadata": {
        "id": "setup_files"
      },
      "execution_count": null,
      "outputs": []
    },
    {
      "cell_type": "code",
      "source": [
        "# Модифицируем app_old.py для работы в Colab\n",
        "with open('app_old.py', 'r') as f:\n",
        "    content = f.read()\n",
        "\n",
        "# Добавляем поддержку share для Colab\n",
        "content = content.replace(\n",
        "    'demo.queue().launch(show_api=False, show_error=True)',\n",
        "    'demo.queue().launch(share=True, show_api=False, show_error=True)'\n",
        ")\n",
        "\n",
        "with open('app_old.py', 'w') as f:\n",
        "    f.write(content)\n",
        "\n",
        "# Запускаем приложение\n",
        "!python app_old.py"
      ],
      "metadata": {
        "id": "run_app"
      },
      "execution_count": null,
      "outputs": []
    }
  ]
}
